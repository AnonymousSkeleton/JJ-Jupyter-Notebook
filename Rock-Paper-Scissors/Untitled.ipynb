{
 "cells": [
  {
   "cell_type": "code",
   "execution_count": 7,
   "metadata": {},
   "outputs": [],
   "source": [
    "import random\n",
    "def get_computer_rps():\n",
    "    rps = ['rock', 'paper', 'scissors']\n",
    "    return(random.choice(rps))\n",
    "def who_is_winner(your_choice, computer_choice):\n",
    "    if your_choice == 'rock' and computer_choice == 'paper':\n",
    "        return (\"Computer wins!\")\n",
    "    elif your_choice == 'rock' and computer_choice == 'scissors':\n",
    "        return (\"You win!\")\n",
    "    elif your_choice == 'rock' and computer_choice == 'rock':\n",
    "        return (\"Tie!\")\n",
    "    elif your_choice == 'scissors' and computer_choice == 'rock':\n",
    "        return (\"Computer wins!\")\n",
    "    elif your_choice == 'scissors' and computer_choice == 'paper':\n",
    "        return (\"You win!\")\n",
    "    elif your_choice == 'scissors' and computer_choice == 'scissors':\n",
    "        return (\"Tie!\")\n",
    "    elif your_choice == 'paper' and computer_choice == 'scissors':\n",
    "        return (\"Computer wins!\")\n",
    "    elif your_choice == 'paper' and computer_choice == 'rock':\n",
    "        return (\"You win!\")\n",
    "    elif your_choice == 'paper' and computer_choice == 'paper':\n",
    "        return (\"Tie!\")\n",
    "    "
   ]
  },
  {
   "cell_type": "code",
   "execution_count": null,
   "metadata": {},
   "outputs": [],
   "source": []
  },
  {
   "cell_type": "code",
   "execution_count": null,
   "metadata": {},
   "outputs": [],
   "source": []
  }
 ],
 "metadata": {
  "kernelspec": {
   "display_name": "Python 3",
   "language": "python",
   "name": "python3"
  },
  "language_info": {
   "codemirror_mode": {
    "name": "ipython",
    "version": 3
   },
   "file_extension": ".py",
   "mimetype": "text/x-python",
   "name": "python",
   "nbconvert_exporter": "python",
   "pygments_lexer": "ipython3",
   "version": "3.6.5"
  }
 },
 "nbformat": 4,
 "nbformat_minor": 2
}
