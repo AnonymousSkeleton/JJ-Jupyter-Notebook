{
 "cells": [
  {
   "cell_type": "code",
   "execution_count": 54,
   "metadata": {},
   "outputs": [
    {
     "name": "stdout",
     "output_type": "stream",
     "text": [
      "<class 'datetime.time'>\n",
      "09\n"
     ]
    }
   ],
   "source": [
    "import datetime\n",
    "import time\n",
    "now = datetime.time(9,54,27)\n",
    "def hour():\n",
    "    return now.hour\n",
    "def minutes():\n",
    "    return now.minute\n",
    "def seconds():\n",
    "    return now.second\n",
    "def isAM():\n",
    "    won = now.strftime('%H')\n",
    "    return won\n",
    "    \n",
    "        \n",
    "print(datetime.time)\n",
    "\n",
    "print (isAM())\n",
    "\n",
    "    "
   ]
  },
  {
   "cell_type": "code",
   "execution_count": null,
   "metadata": {},
   "outputs": [],
   "source": [
    "\n"
   ]
  },
  {
   "cell_type": "code",
   "execution_count": null,
   "metadata": {},
   "outputs": [],
   "source": []
  }
 ],
 "metadata": {
  "kernelspec": {
   "display_name": "Python 3",
   "language": "python",
   "name": "python3"
  },
  "language_info": {
   "codemirror_mode": {
    "name": "ipython",
    "version": 3
   },
   "file_extension": ".py",
   "mimetype": "text/x-python",
   "name": "python",
   "nbconvert_exporter": "python",
   "pygments_lexer": "ipython3",
   "version": "3.6.5"
  }
 },
 "nbformat": 4,
 "nbformat_minor": 2
}
