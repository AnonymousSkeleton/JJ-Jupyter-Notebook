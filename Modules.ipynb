{
 "cells": [
  {
   "cell_type": "markdown",
   "metadata": {},
   "source": [
    "# 5.1"
   ]
  },
  {
   "cell_type": "markdown",
   "metadata": {},
   "source": [
    "A module in Python is a file with definitions and statements inside. Modules can be imported into any program, and once they are imported, programmers can use things that the modules define. "
   ]
  },
  {
   "cell_type": "code",
   "execution_count": 1,
   "metadata": {},
   "outputs": [],
   "source": [
    "import turtle            # imports and allows us to use the turtles library"
   ]
  },
  {
   "cell_type": "markdown",
   "metadata": {},
   "source": [
    "# 5.2"
   ]
  },
  {
   "cell_type": "markdown",
   "metadata": {},
   "source": [
    "Modules are basically data objects that contain other Python elements. To use a module, we must import it. For example, once we import the turtle module, we have access to the Turtle class and the Screen class within the turtle module. We use dot notation to use something that is contained in the module. For example, if we want to use the Screen or Turtle class in the turtle module, we put turtle.Screen or turtle.Turtle."
   ]
  },
  {
   "cell_type": "markdown",
   "metadata": {},
   "source": [
    "# 5.3"
   ]
  },
  {
   "cell_type": "markdown",
   "metadata": {},
   "source": [
    "A useful module is the math module. It contains functions that you can find on a calculator as well as numbers like pi and e. Unlike the turtle module, the math module does not need to be constructed (we don't have to create anything for this module the way we would create a turtle). However, we still have to use dot notation (for example, math.pi or math.sqrt(3.0))."
   ]
  },
  {
   "cell_type": "markdown",
   "metadata": {},
   "source": [
    "# 5.4"
   ]
  },
  {
   "cell_type": "markdown",
   "metadata": {},
   "source": [
    "The random module is also a useful module. Here is an example:\n"
   ]
  },
  {
   "cell_type": "code",
   "execution_count": 2,
   "metadata": {},
   "outputs": [
    {
     "name": "stdout",
     "output_type": "stream",
     "text": [
      "0.511227965229664\n",
      "6\n"
     ]
    }
   ],
   "source": [
    "import random\n",
    "\n",
    "prob = random.random() #This gives a number from 0.0 to 1.0. While 0.0 is included, 1.0 is not.\n",
    "print(prob) \n",
    "\n",
    "diceThrow = random.randrange(1, 7)       # return an int, one of 1,2,3,4,5,6\n",
    "print(diceThrow)"
   ]
  },
  {
   "cell_type": "markdown",
   "metadata": {},
   "source": [
    "Random numbers are created based on a certain algorithm, so they're not truly random (they are pseudo-random). However, they are random enough for our uses."
   ]
  },
  {
   "cell_type": "code",
   "execution_count": null,
   "metadata": {},
   "outputs": [],
   "source": []
  }
 ],
 "metadata": {
  "kernelspec": {
   "display_name": "Python 3",
   "language": "python",
   "name": "python3"
  },
  "language_info": {
   "codemirror_mode": {
    "name": "ipython",
    "version": 3
   },
   "file_extension": ".py",
   "mimetype": "text/x-python",
   "name": "python",
   "nbconvert_exporter": "python",
   "pygments_lexer": "ipython3",
   "version": "3.6.5"
  }
 },
 "nbformat": 4,
 "nbformat_minor": 2
}
