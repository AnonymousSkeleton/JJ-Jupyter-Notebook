{
 "cells": [
  {
   "cell_type": "markdown",
   "metadata": {},
   "source": [
    "# 2.2"
   ]
  },
  {
   "cell_type": "markdown",
   "metadata": {},
   "source": [
    "Algorithm analysis involves comparing algorithms based on the amount of computing resources they use."
   ]
  },
  {
   "cell_type": "markdown",
   "metadata": {},
   "source": [
    "We can measure how efficient an algorithm is based on the amount of memory/space it uses or how long it takes to execute."
   ]
  },
  {
   "cell_type": "code",
   "execution_count": 3,
   "metadata": {},
   "outputs": [
    {
     "name": "stdout",
     "output_type": "stream",
     "text": [
      "Sum is 5000000050000000 required  5.7404485 seconds\n",
      "Sum is 5000000050000000 required  5.7703354 seconds\n",
      "Sum is 5000000050000000 required  5.7380672 seconds\n",
      "Sum is 5000000050000000 required  5.7699707 seconds\n",
      "Sum is 5000000050000000 required  5.7453160 seconds\n"
     ]
    }
   ],
   "source": [
    "#Example of measuring time\n",
    "import time\n",
    "\n",
    "def sumOfN2(n):\n",
    "   start = time.time()\n",
    "\n",
    "   theSum = 0\n",
    "   for i in range(1,n+1):\n",
    "      theSum = theSum + i\n",
    "\n",
    "   end = time.time()\n",
    "\n",
    "   return theSum,end-start\n",
    "\n",
    "for i in range(5):\n",
    "       print(\"Sum is %d required %10.7f seconds\"%sumOfN2(100000000))\n",
    "        \n",
    "#The bigger n is, the longer it takes to find the sum"
   ]
  },
  {
   "cell_type": "code",
   "execution_count": 22,
   "metadata": {},
   "outputs": [],
   "source": [
    "#Example of a more efficient algorithm that utilizes a closed equation\n",
    "#Execution time stays low no matter how high n is \n",
    "import time\n",
    "\n",
    "def sumOfN3(n):  \n",
    "    return (n*(n+1))/2      "
   ]
  },
  {
   "cell_type": "markdown",
   "metadata": {},
   "source": [
    "# 2.3"
   ]
  },
  {
   "cell_type": "markdown",
   "metadata": {},
   "source": [
    "Instead of using execution time, which is affected by variables like the machine you use, we can check to see how many operations it takes to complete the algorithm."
   ]
  },
  {
   "cell_type": "markdown",
   "metadata": {},
   "source": [
    "We use Big-O notation (Order of Magnitude) to describe how fast part/a term of a function as the n value increases (or whatever variable you use, the part/term of a function that increases the fastest as n grows in value is called the dominant term.). Big-O is written as O(f(n)) and is used to approximate the number of steps in a computation."
   ]
  },
  {
   "cell_type": "markdown",
   "metadata": {},
   "source": [
    "Functions that involve exponents (like exponential, quadratic, and cubic functions) tend to grow extremely quickly."
   ]
  },
  {
   "cell_type": "markdown",
   "metadata": {},
   "source": [
    "How well an algorithm performs can also depend on the exact values of the data it produces."
   ]
  },
  {
   "cell_type": "code",
   "execution_count": null,
   "metadata": {},
   "outputs": [],
   "source": []
  }
 ],
 "metadata": {
  "kernelspec": {
   "display_name": "Python 3",
   "language": "python",
   "name": "python3"
  },
  "language_info": {
   "codemirror_mode": {
    "name": "ipython",
    "version": 3
   },
   "file_extension": ".py",
   "mimetype": "text/x-python",
   "name": "python",
   "nbconvert_exporter": "python",
   "pygments_lexer": "ipython3",
   "version": "3.6.5"
  }
 },
 "nbformat": 4,
 "nbformat_minor": 2
}
