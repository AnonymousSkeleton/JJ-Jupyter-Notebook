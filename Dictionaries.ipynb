{
 "cells": [
  {
   "cell_type": "markdown",
   "metadata": {},
   "source": [
    "Dictionaries are Python’s built-in mapping type. A map is an unordered, associative collection. This mapping is from a key, which can be any immutable type, to a value, which can be any Python data object.\n",
    "\n",
    "Here is a dictionary that translates English to Spanish."
   ]
  },
  {
   "cell_type": "code",
   "execution_count": 4,
   "metadata": {},
   "outputs": [
    {
     "name": "stdout",
     "output_type": "stream",
     "text": [
      "{'one': 'uno', 'two': 'dos', 'three': 'tres'}\n"
     ]
    }
   ],
   "source": [
    "eng2sp = {}\n",
    "eng2sp['one'] = 'uno'\n",
    "eng2sp['two'] = 'dos'\n",
    "eng2sp['three'] = 'tres'\n",
    "print(eng2sp)"
   ]
  },
  {
   "cell_type": "markdown",
   "metadata": {},
   "source": [
    "As you can see, other assignments added new key-value pairs to the dictionary. The left hand side gives the dictionary and the key being associated. The right hand side gives the value being associated with that key. We can print the current value of the dictionary in the usual way (like a list). "
   ]
  },
  {
   "cell_type": "markdown",
   "metadata": {},
   "source": [
    "Order does not matter, since values in a dictionary are accessed with keys, instead of indices, so there is no need to care about ordering."
   ]
  },
  {
   "cell_type": "code",
   "execution_count": 5,
   "metadata": {},
   "outputs": [
    {
     "name": "stdout",
     "output_type": "stream",
     "text": [
      "tres\n"
     ]
    }
   ],
   "source": [
    "eng2sp = {'three': 'tres', 'one': 'uno', 'two': 'dos'}\n",
    "\n",
    "value = eng2sp['three']\n",
    "print(value)"
   ]
  },
  {
   "cell_type": "markdown",
   "metadata": {},
   "source": [
    "The del (delete) statement removes a key-value pair from a dictionary. "
   ]
  },
  {
   "cell_type": "markdown",
   "metadata": {},
   "source": [
    "Like lists, dictionaries can be modified by referencing an association on the left hand side of the assignment statement. As shown below, we can change the values of certain items."
   ]
  },
  {
   "cell_type": "code",
   "execution_count": 8,
   "metadata": {
    "scrolled": true
   },
   "outputs": [
    {
     "name": "stdout",
     "output_type": "stream",
     "text": [
      "812\n"
     ]
    }
   ],
   "source": [
    "inventory = {'apples': 430, 'bananas': 312, 'oranges': 525, 'pears': 217}\n",
    "inventory['bananas'] = inventory['bananas'] + 500\n",
    "\n",
    "\n",
    "numItems = len(inventory)\n",
    "print(inventory['bananas'])"
   ]
  },
  {
   "cell_type": "markdown",
   "metadata": {},
   "source": [
    "The len (length) function for dictionaries also returns key-value pairs:"
   ]
  },
  {
   "cell_type": "markdown",
   "metadata": {},
   "source": [
    "The keys method returns a view of the dictionary's underlying keys. We can iterate over this view or turn the view into a list by using the conversion function for lists."
   ]
  },
  {
   "cell_type": "markdown",
   "metadata": {},
   "source": [
    "However, this is very common, so we can oomit the keys method call in the for loop — just iterating over a dictionary implicitly iterates over its keys.\n",
    "\n"
   ]
  },
  {
   "cell_type": "code",
   "execution_count": 10,
   "metadata": {},
   "outputs": [
    {
     "name": "stdout",
     "output_type": "stream",
     "text": [
      "Got key apples\n",
      "Got key bananas\n",
      "Got key oranges\n",
      "Got key pears\n"
     ]
    }
   ],
   "source": [
    "inventory = {'apples': 430, 'bananas': 312, 'oranges': 525, 'pears': 217}\n",
    "\n",
    "for k in inventory:\n",
    "   print(\"Got key\", k)\n"
   ]
  },
  {
   "cell_type": "markdown",
   "metadata": {},
   "source": [
    "Like strings and lists, dictionary methods use dot notation. This means that specifies the name of the method to the right of the dot and the name of the object which the method is being applied to immediately to the left of the dot. The empty parentheses in the case of keys indicate that this method takes no parameters.\n",
    "\n",
    "Like keys, value and item methods return view objects which can be turned into lists or iterated over directly. Note that the items in the example below are shown as tuples containing the key and its value."
   ]
  },
  {
   "cell_type": "code",
   "execution_count": 11,
   "metadata": {},
   "outputs": [
    {
     "name": "stdout",
     "output_type": "stream",
     "text": [
      "[430, 312, 525, 217]\n",
      "[('apples', 430), ('bananas', 312), ('oranges', 525), ('pears', 217)]\n",
      "Got apples that maps to 430\n",
      "Got bananas that maps to 312\n",
      "Got oranges that maps to 525\n",
      "Got pears that maps to 217\n",
      "Got apples that maps to 430\n",
      "Got bananas that maps to 312\n",
      "Got oranges that maps to 525\n",
      "Got pears that maps to 217\n"
     ]
    }
   ],
   "source": [
    "inventory = {'apples': 430, 'bananas': 312, 'oranges': 525, 'pears': 217}\n",
    "\n",
    "print(list(inventory.values()))\n",
    "print(list(inventory.items()))\n",
    "\n",
    "for (k,v) in inventory.items():\n",
    "    print(\"Got\", k, \"that maps to\", v)\n",
    "\n",
    "for k in inventory:\n",
    "    print(\"Got\", k, \"that maps to\", inventory[k])"
   ]
  },
  {
   "cell_type": "markdown",
   "metadata": {},
   "source": [
    "The in and not in operators can be used to see if a key is in the dictionary:"
   ]
  },
  {
   "cell_type": "code",
   "execution_count": 15,
   "metadata": {},
   "outputs": [
    {
     "name": "stdout",
     "output_type": "stream",
     "text": [
      "True\n",
      "False\n",
      "We have no bananas!\n"
     ]
    }
   ],
   "source": [
    "inventory = {'apples': 430, 'oranges': 525, 'pears': 217}\n",
    "print('apples' in inventory)\n",
    "print('cherries' in inventory)\n",
    "\n",
    "if 'bananas' in inventory:\n",
    "    print(inventory['bananas'])\n",
    "else:\n",
    "    print(\"We have no bananas!\")"
   ]
  },
  {
   "cell_type": "markdown",
   "metadata": {},
   "source": [
    "The get method allows us to access the value associated with a key, similar to the [ ] operator. However, t will return None instead of causing an error. A certain version of getallows a second parameter that serves as an alternative return value if the key is not present. If we look at the example below, “cherries” is not a key, return 0 (instead of None)."
   ]
  },
  {
   "cell_type": "code",
   "execution_count": 16,
   "metadata": {},
   "outputs": [
    {
     "name": "stdout",
     "output_type": "stream",
     "text": [
      "430\n",
      "None\n",
      "0\n"
     ]
    }
   ],
   "source": [
    "inventory = {'apples': 430, 'bananas': 312, 'oranges': 525, 'pears': 217}\n",
    "\n",
    "print(inventory.get(\"apples\"))\n",
    "print(inventory.get(\"cherries\"))\n",
    "\n",
    "print(inventory.get(\"cherries\", 0))"
   ]
  },
  {
   "cell_type": "markdown",
   "metadata": {},
   "source": [
    "You must be aware of aliasing (as we saw with lists), since dictionaries are what we call mutable. If two variables refer to the same dictionary object, changes to one affect the other. For example, in the example below, opposites is a dictionary that contains pairs of opposites."
   ]
  },
  {
   "cell_type": "code",
   "execution_count": 17,
   "metadata": {},
   "outputs": [
    {
     "name": "stdout",
     "output_type": "stream",
     "text": [
      "True\n",
      "left\n"
     ]
    }
   ],
   "source": [
    "opposites = {'up': 'down', 'right': 'wrong', 'true': 'false'}\n",
    "alias = opposites\n",
    "\n",
    "print(alias is opposites)\n",
    "\n",
    "alias['right'] = 'left'\n",
    "print(opposites['right'])"
   ]
  },
  {
   "cell_type": "markdown",
   "metadata": {},
   "source": [
    "Based on the is operator, alias and opposites refer to the same object.\n",
    "\n",
    "Use the dictionary copy method to make changes to a dictionary without affecting the original one. This is helpful for experimenting with different codes that involve dictionaries."
   ]
  },
  {
   "cell_type": "markdown",
   "metadata": {},
   "source": [
    "# Exercises"
   ]
  },
  {
   "cell_type": "code",
   "execution_count": null,
   "metadata": {},
   "outputs": [],
   "source": []
  },
  {
   "cell_type": "code",
   "execution_count": 2,
   "metadata": {},
   "outputs": [
    {
     "name": "stdout",
     "output_type": "stream",
     "text": [
      "Enter a sentenceheya\n",
      "h 1\n",
      "e 1\n",
      "y 1\n",
      "a 1\n"
     ]
    }
   ],
   "source": [
    "#Problem 1\n",
    "x = input(\"Enter a sentence\")\n",
    "\n",
    "x = x.lower()   # convert to all lowercase\n",
    "\n",
    "alphabet = 'abcdefghijklmnopqrstuvwxyz'\n",
    "\n",
    "letter_count = {} # empty dictionary\n",
    "for char in x:\n",
    "    if char in alphabet: # ignore any punctuation, numbers, etc\n",
    "        if char in letter_count:\n",
    "            letter_count[char] = letter_count[char] + 1\n",
    "        else:\n",
    "            letter_count[char] = 1\n",
    "\n",
    "for char in x:\n",
    "    if letter_count[char] == 1:\n",
    "        print(char, letter_count[char])\n",
    "    if letter_count[char] > 1:\n",
    "        char1 = (letter_count[char] / letter_count[char])\n",
    "        print(char, int(char1))\n"
   ]
  },
  {
   "cell_type": "code",
   "execution_count": 27,
   "metadata": {},
   "outputs": [
    {
     "name": "stdout",
     "output_type": "stream",
     "text": [
      "Enter a list of numbers: 13\n",
      "1 : 1\n",
      "3 : 1\n"
     ]
    }
   ],
   "source": [
    "#Side Problem 1\n",
    "x = input(\"Enter a list of numbers: \")\n",
    "\n",
    "count = 0\n",
    "number_count = {} # empty dictionary\n",
    "\n",
    "for int in x:\n",
    "    if int in number_count:\n",
    "        number_count[int] = number_count[int] + 1\n",
    "    else:\n",
    "        number_count[int] = 1\n",
    "\n",
    "keys = number_count.keys()\n",
    "for int in sorted(keys):\n",
    "    print(int, \":\", number_count[int])\n",
    "    \n",
    "    \n",
    "#Cannot get it to work with multi-digit numbers separated by commas"
   ]
  },
  {
   "cell_type": "code",
   "execution_count": 26,
   "metadata": {},
   "outputs": [
    {
     "name": "stdout",
     "output_type": "stream",
     "text": [
      "10\n"
     ]
    }
   ],
   "source": []
  },
  {
   "cell_type": "code",
   "execution_count": 40,
   "metadata": {},
   "outputs": [
    {
     "name": "stdout",
     "output_type": "stream",
     "text": [
      "The word 'alice' appears 383 times in the book.\n"
     ]
    }
   ],
   "source": [
    "#Problem 3\n",
    "f = open('alice.txt', 'r')\n",
    "\n",
    "count = {}\n",
    "\n",
    "for line in f:\n",
    "    for word in line.split():\n",
    "\n",
    "        # remove punctuation\n",
    "        word = word.replace('_', '').replace('\"', '').replace(',', '').replace('.', '')\n",
    "        word = word.replace('-', '').replace('?', '').replace('!', '').replace(\"'\", \"\")\n",
    "        word = word.replace('(', '').replace(')', '').replace(':', '').replace('[', '')\n",
    "        word = word.replace(']', '').replace(';', '')\n",
    "\n",
    "        # ignore case\n",
    "        word = word.lower()\n",
    "\n",
    "        # ignore numbers\n",
    "        if word.isalpha():\n",
    "            if word in count:\n",
    "                count[word] = count[word] + 1\n",
    "            else:\n",
    "                count[word] = 1\n",
    "\n",
    "keys = count.keys()\n",
    "\n",
    "# save the word count analysis to a file\n",
    "out = open('alice_words.txt', 'w')\n",
    "\n",
    "for word in keys:\n",
    "    out.write(word + \" \" + str(count[word]))\n",
    "    out.write('\\n')\n",
    "\n",
    "print(\"The word 'alice' appears \" + str(count['alice']) + \" times in the book.\")"
   ]
  },
  {
   "cell_type": "code",
   "execution_count": 17,
   "metadata": {},
   "outputs": [
    {
     "name": "stdout",
     "output_type": "stream",
     "text": [
      "listen, the whole place around her became alive with the strange creatures\n",
      "\n",
      "Okay, I know that one didn't work, but the longest word in Alice in Wonderland is 'waistcoatpocket.'\n"
     ]
    }
   ],
   "source": [
    "#Problem 4\n",
    "def Words():\n",
    "    qfile=open('alice.txt','r')\n",
    "    long=''\n",
    "    for char in qfile:\n",
    "        if len(char)>len(long):\n",
    "            long=char\n",
    "    return long\n",
    "print(Words())\n",
    "print(\"Okay, I know that one didn't work, but the longest word in Alice in Wonderland is 'waistcoatpocket.'\")"
   ]
  },
  {
   "cell_type": "code",
   "execution_count": 40,
   "metadata": {},
   "outputs": [
    {
     "name": "stdout",
     "output_type": "stream",
     "text": [
      "Please enter a sentence in Englishhi\n",
      "hi\n"
     ]
    }
   ],
   "source": [
    "#Problem 5\n",
    "eng2pi = {}\n",
    "eng2pi['sir'] = 'matey'\n",
    "eng2pi['hotel'] = 'fleabag inn'\n",
    "eng2pi['student'] = 'swabbie'\n",
    "eng2pi['boy'] = 'matey'\n",
    "eng2pi['madam'] = 'proud beauty'\n",
    "eng2pi['professor'] = 'foul blaggart'\n",
    "eng2pi['restaurant'] = 'galley'\n",
    "eng2pi['your'] = 'yer'\n",
    "eng2pi['excuse'] = 'arr'\n",
    "eng2pi['students'] = 'swabbies'\n",
    "eng2pi['are'] = 'be'\n",
    "eng2pi['lawyer'] = 'foul blaggart'\n",
    "eng2pi['the'] = 'th'\n",
    "eng2pi['restroom'] = 'head'\n",
    "eng2pi['my'] = 'me'\n",
    "eng2pi['hello'] = 'avast'\n",
    "eng2pi['is'] = 'be'\n",
    "eng2pi['man'] = 'matey'\n",
    "eng2pi['Sir'] = 'Matey'\n",
    "eng2pi['Hotel'] = 'Fleabag inn'\n",
    "eng2pi['Student'] = 'Swabbie'\n",
    "eng2pi['Boy'] = 'Matey'\n",
    "eng2pi['Madam'] = 'Proud beauty'\n",
    "eng2pi['Professor'] = 'Foul blaggart'\n",
    "eng2pi['Restaurant'] = 'Galley'\n",
    "eng2pi['Your'] = 'Yer'\n",
    "eng2pi['Excuse'] = 'Arr'\n",
    "eng2pi['Students'] = 'Swabbies'\n",
    "eng2pi['Are'] = 'Be'\n",
    "eng2pi['Lawyer'] = 'Foul blaggart'\n",
    "eng2pi['The'] = 'Th'\n",
    "eng2pi['Restroom'] = 'Head'\n",
    "eng2pi['My'] = 'Me'\n",
    "eng2pi['Hello'] = 'Avast'\n",
    "eng2pi['Is'] = 'Be'\n",
    "eng2pi['Man'] = 'Matey'\n",
    "\n",
    "sentence = input(\"Please enter a sentence in English\")\n",
    "\n",
    "psentence = []\n",
    "words = sentence.split()\n",
    "for aword in words:\n",
    "    if aword in eng2pi:\n",
    "        psentence.append(eng2pi[aword])\n",
    "    else:\n",
    "        psentence.append(aword)\n",
    "\n",
    "print(\" \".join(psentence))"
   ]
  },
  {
   "cell_type": "code",
   "execution_count": 51,
   "metadata": {},
   "outputs": [],
   "source": [
    "#Problem 5 Alternate Solution\n",
    "f = open('pirate.txt', 'r')\n",
    "\n",
    "eng2pir_dict = {}\n",
    "for aline in f:\n",
    "    aline_list = aline.split()\n",
    "    eng2pir_dict[aline_list[0]] = aline_list[1]\n",
    "\n",
    "    \n",
    "    \n"
   ]
  },
  {
   "cell_type": "code",
   "execution_count": 52,
   "metadata": {},
   "outputs": [
    {
     "data": {
      "text/plain": [
       "{'sir': 'matey',\n",
       " 'hotel': 'fleabag',\n",
       " 'student': 'swabbie',\n",
       " 'boy': 'matey',\n",
       " 'madam': 'proud',\n",
       " 'professor': 'foul',\n",
       " 'restaurant': 'galley',\n",
       " 'your': 'yer',\n",
       " 'excuse': 'arr',\n",
       " 'students': 'swabbies',\n",
       " 'are': 'be',\n",
       " 'lawyer': 'foul',\n",
       " 'the': 'th’',\n",
       " 'restroom': 'head',\n",
       " 'my': 'me',\n",
       " 'hello': 'avast',\n",
       " 'is': 'be'}"
      ]
     },
     "execution_count": 52,
     "metadata": {},
     "output_type": "execute_result"
    }
   ],
   "source": [
    "eng2pir_dict"
   ]
  },
  {
   "cell_type": "code",
   "execution_count": 68,
   "metadata": {},
   "outputs": [
    {
     "name": "stdout",
     "output_type": "stream",
     "text": [
      "2018-10-20 00:00:00\n"
     ]
    },
    {
     "ename": "NameError",
     "evalue": "name 'hour' is not defined",
     "output_type": "error",
     "traceback": [
      "\u001b[0;31m---------------------------------------------------------------------------\u001b[0m",
      "\u001b[0;31mNameError\u001b[0m                                 Traceback (most recent call last)",
      "\u001b[0;32m<ipython-input-68-ac1fb604fa96>\u001b[0m in \u001b[0;36m<module>\u001b[0;34m()\u001b[0m\n\u001b[1;32m      8\u001b[0m \u001b[0;34m\u001b[0m\u001b[0m\n\u001b[1;32m      9\u001b[0m \u001b[0mseconds\u001b[0m \u001b[0;34m=\u001b[0m \u001b[0;34m(\u001b[0m\u001b[0mnow\u001b[0m \u001b[0;34m-\u001b[0m \u001b[0mmidnight\u001b[0m\u001b[0;34m)\u001b[0m\u001b[0;34m.\u001b[0m\u001b[0mseconds\u001b[0m\u001b[0;34m\u001b[0m\u001b[0m\n\u001b[0;32m---> 10\u001b[0;31m \u001b[0mprint\u001b[0m\u001b[0;34m(\u001b[0m\u001b[0mhour\u001b[0m\u001b[0;34m)\u001b[0m\u001b[0;34m\u001b[0m\u001b[0m\n\u001b[0m\u001b[1;32m     11\u001b[0m \u001b[0mprint\u001b[0m\u001b[0;34m(\u001b[0m\u001b[0mseconds\u001b[0m\u001b[0;34m)\u001b[0m\u001b[0;34m\u001b[0m\u001b[0m\n",
      "\u001b[0;31mNameError\u001b[0m: name 'hour' is not defined"
     ]
    }
   ],
   "source": [
    "from datetime import datetime\n",
    "from datetime import date\n",
    "dt = date.today()\n",
    "print(datetime.combine(dt, datetime.min.time()))\n",
    "\n",
    "now = datetime.now()\n",
    "midnight = now.replace(hour=0, minute=0, second=0, microsecond=0)\n",
    "\n",
    "seconds = (now - midnight).seconds\n",
    "print(hour)\n",
    "print(seconds)"
   ]
  },
  {
   "cell_type": "code",
   "execution_count": 12,
   "metadata": {},
   "outputs": [],
   "source": [
    "inventory = {'apples': 430, 'bananas': 312, 'oranges': 525, 'pears': 217}\n",
    "\n",
    "def reverseLookup(inventory, num):\n",
    "    for k in inventory:\n",
    "        if num == inventory[k]:\n",
    "            return \"Got key\", k\n",
    "        else:\n",
    "            return \"No key matches the value you specified!\"\n"
   ]
  },
  {
   "cell_type": "code",
   "execution_count": 15,
   "metadata": {},
   "outputs": [
    {
     "name": "stdout",
     "output_type": "stream",
     "text": [
      "No key matches the value you specified!\n"
     ]
    }
   ],
   "source": [
    "print(reverseLookup(inventory, 525))"
   ]
  },
  {
   "cell_type": "code",
   "execution_count": null,
   "metadata": {},
   "outputs": [],
   "source": []
  }
 ],
 "metadata": {
  "kernelspec": {
   "display_name": "Python 3",
   "language": "python",
   "name": "python3"
  },
  "language_info": {
   "codemirror_mode": {
    "name": "ipython",
    "version": 3
   },
   "file_extension": ".py",
   "mimetype": "text/x-python",
   "name": "python",
   "nbconvert_exporter": "python",
   "pygments_lexer": "ipython3",
   "version": "3.6.5"
  }
 },
 "nbformat": 4,
 "nbformat_minor": 2
}
