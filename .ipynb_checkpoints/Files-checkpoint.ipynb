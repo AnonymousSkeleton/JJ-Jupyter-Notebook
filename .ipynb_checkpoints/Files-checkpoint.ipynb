{
 "cells": [
  {
   "cell_type": "code",
   "execution_count": 6,
   "metadata": {},
   "outputs": [],
   "source": [
    "#Exercise 1\n",
    "file = open(\"studentdata.txt\", \"r\")\n",
    "\n",
    "for aline in file:\n",
    "    values = aline.split()\n",
    "    if len(values[:1]) > 6:\n",
    "        print(values[0])\n",
    "\n",
    "file.close()"
   ]
  },
  {
   "cell_type": "code",
   "execution_count": 5,
   "metadata": {},
   "outputs": [],
   "source": [
    "#Exercise 2\n",
    "file = open(\"studentdata.txt\", \"r\")\n",
    "\n",
    "for aline in file:\n",
    "    values = aline.split()\n",
    "    nums = (values[1:])\n",
    "    numbers = [int(x) for x in nums]      \n",
    "    suma = sum(numbers)\n",
    "    avg = suma/(len(nums)) \n",
    "    print(str(values[0]) + ': ' + str(avg))\n",
    "\n",
    "file.close()\n",
    "\n"
   ]
  },
  {
   "cell_type": "code",
   "execution_count": 4,
   "metadata": {},
   "outputs": [],
   "source": [
    "#Exercise 3\n",
    "file = open(\"studentdata.txt\", \"r\")\n",
    "\n",
    "for aline in file:\n",
    "    values = aline.split()\n",
    "    scoresa = values[1:]\n",
    "    scoresb = [int(x) for x in scoresa]\n",
    "    print(str(values[0]) + ' min: ' + str(min(scoresb)) + ' max: ' + (str(max(scoresb))))\n",
    "\n",
    "file.close()"
   ]
  },
  {
   "cell_type": "code",
   "execution_count": null,
   "metadata": {},
   "outputs": [],
   "source": []
  }
 ],
 "metadata": {
  "kernelspec": {
   "display_name": "Python 3",
   "language": "python",
   "name": "python3"
  },
  "language_info": {
   "codemirror_mode": {
    "name": "ipython",
    "version": 3
   },
   "file_extension": ".py",
   "mimetype": "text/x-python",
   "name": "python",
   "nbconvert_exporter": "python",
   "pygments_lexer": "ipython3",
   "version": "3.6.5"
  }
 },
 "nbformat": 4,
 "nbformat_minor": 2
}
